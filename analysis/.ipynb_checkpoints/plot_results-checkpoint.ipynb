{
 "cells": [
  {
   "cell_type": "markdown",
   "metadata": {
    "colab_type": "text",
    "id": "view-in-github"
   },
   "source": [
    "<a href=\"https://colab.research.google.com/github/FL24-Team-2018/DP-Experiment/blob/master/analysis/plot_results.ipynb\" target=\"_parent\"><img src=\"https://colab.research.google.com/assets/colab-badge.svg\" alt=\"Open In Colab\"/></a>"
   ]
  },
  {
   "cell_type": "markdown",
   "metadata": {
    "colab_type": "text",
    "id": "LbPn5DZGt4kO"
   },
   "source": [
    "Hack to enable latex in matplotlib from https://stackoverflow.com/questions/55746749/latex-equations-do-not-render-in-google-colaboratory-when-using-matplotlib"
   ]
  },
  {
   "cell_type": "markdown",
   "metadata": {
    "colab": {
     "base_uri": "https://localhost:8080/",
     "height": 1598
    },
    "colab_type": "code",
    "id": "5IidcTlytzNV",
    "outputId": "ec285c44-fe60-435b-a3f0-0ca42bd9a6ec"
   },
   "source": [
    "! sudo apt-get install texlive-latex-recommended #1\n",
    "! sudo apt-get install dvipng texlive-fonts-recommended #2\n",
    "! wget http://mirrors.ctan.org/macros/latex/contrib/type1cm.zip #3\n",
    "! unzip type1cm.zip -d /tmp/type1cm #4\n",
    "! cd /tmp/type1cm/type1cm/ && sudo latex type1cm.ins  #5\n",
    "! sudo mkdir /usr/share/texmf/tex/latex/type1cm #6\n",
    "! sudo cp /tmp/type1cm/type1cm/type1cm.sty /usr/share/texmf/tex/latex/type1cm #7\n",
    "! sudo texhash #8"
   ]
  },
  {
   "cell_type": "code",
   "execution_count": null,
   "metadata": {
    "colab": {},
    "colab_type": "code",
    "id": "4HsO4hhYmM0v"
   },
   "outputs": [],
   "source": [
    "import pandas as pd \n",
    "import numpy as np\n",
    "import matplotlib as mpl\n",
    "#mpl.use(\"pgf\")\n",
    "import matplotlib.pyplot as plt"
   ]
  },
  {
   "cell_type": "code",
   "execution_count": null,
   "metadata": {
    "colab": {
     "base_uri": "https://localhost:8080/",
     "height": 122
    },
    "colab_type": "code",
    "id": "woHq7N9sp6dO",
    "outputId": "b4c2e553-1cc5-4c7f-a216-42f5e3b06ae6"
   },
   "outputs": [],
   "source": [
    "from google.colab import drive\n",
    "drive.mount('/content/drive')"
   ]
  },
  {
   "cell_type": "code",
   "execution_count": null,
   "metadata": {
    "colab": {},
    "colab_type": "code",
    "id": "_7q4dMgBoPhs"
   },
   "outputs": [],
   "source": [
    "#path = \"/content/drive/My Drive/Colab Notebooks/DP-experiment/2019-06-12 results Wiener.csv\"\n",
    "url = 'https://raw.githubusercontent.com/FL24-Team-2018/DP-Experiment/master/analysis/2019-06-12%20results%20Wiener.csv'\n",
    "df = pd.read_csv(url)"
   ]
  },
  {
   "cell_type": "code",
   "execution_count": null,
   "metadata": {
    "colab": {
     "base_uri": "https://localhost:8080/",
     "height": 136
    },
    "colab_type": "code",
    "id": "XaE6fEgLvJAA",
    "outputId": "ecbd0647-a36e-4d81-b36f-8170f8ab3341"
   },
   "outputs": [],
   "source": [
    "df.columns"
   ]
  },
  {
   "cell_type": "code",
   "execution_count": null,
   "metadata": {
    "colab": {
     "base_uri": "https://localhost:8080/",
     "height": 85
    },
    "colab_type": "code",
    "id": "3bYelnGFtAm1",
    "outputId": "a495d1be-2a5f-44eb-9e52-de8e750a96e9"
   },
   "outputs": [],
   "source": [
    "df.label.unique()"
   ]
  },
  {
   "cell_type": "code",
   "execution_count": 5,
   "metadata": {
    "colab": {
     "base_uri": "https://localhost:8080/",
     "height": 102
    },
    "colab_type": "code",
    "id": "Km0pvY0mvXsh",
    "outputId": "c0938404-33c3-4a90-e407-99b4c6bcd9be"
   },
   "outputs": [
    {
     "data": {
      "text/plain": [
       "5     0.6476\n",
       "7     0.9699\n",
       "9     1.3404\n",
       "11    2.1295\n",
       "Name: d / σ_B, dtype: float64"
      ]
     },
     "execution_count": 5,
     "metadata": {},
     "output_type": "execute_result"
    }
   ],
   "source": [
    "df[df['label']=='18nm horizontal S']['d / σ_B']"
   ]
  },
  {
   "cell_type": "markdown",
   "metadata": {
    "colab_type": "text",
    "id": "-bxOrV6vBJeJ"
   },
   "source": [
    "# Creating the plots"
   ]
  },
  {
   "cell_type": "code",
   "execution_count": 6,
   "metadata": {
    "colab": {},
    "colab_type": "code",
    "id": "H9Qj8xQIB19k"
   },
   "outputs": [],
   "source": [
    "IPython_default = plt.rcParams.copy()"
   ]
  },
  {
   "cell_type": "code",
   "execution_count": 7,
   "metadata": {
    "colab": {},
    "colab_type": "code",
    "id": "AxikChzHBNis"
   },
   "outputs": [],
   "source": [
    "# nature: single-column width = 83mm = 3.26 in\n",
    "# nature: double-column width = 183mm = 7.20 in\n",
    "# optics express: side by side up to width = 66mm = 2.59 in\n",
    "# optics express: maximum width of text= 132.8mm = 5.25 in\n",
    "# optics express: caption font size=8 pt\n",
    "# new journal of physics ?\n",
    "\n",
    "figurewidth = 3.26 # in inch\n",
    "figureheight = figurewidth / 1.618 # golden ratio"
   ]
  },
  {
   "cell_type": "code",
   "execution_count": 38,
   "metadata": {},
   "outputs": [],
   "source": [
    "pgf_with_latex = {                      # setup matplotlib to use latex for output\n",
    "    \"pgf.texsystem\": \"pdflatex\",        # change this if using xetex or lautex\n",
    "    \"text.usetex\": True,                # use LaTeX to write all text\n",
    "    \"font.family\": \"serif\",\n",
    "    \"font.serif\": [],                   # blank entries should cause plots \n",
    "    \"font.sans-serif\": [],              # to inherit fonts from the document\n",
    "    \"font.monospace\": [],\n",
    "    \"axes.labelsize\": 10,               # LaTeX default is 10pt font.\n",
    "    \"font.size\": 10,\n",
    "    \"legend.fontsize\": 8,               # Make the legend/label fonts \n",
    "    \"xtick.labelsize\": 8,               # a little smaller\n",
    "    \"ytick.labelsize\": 8,\n",
    "    \"figure.figsize\": [figurewidth, figureheight],     # default fig size of 0.9 textwidth\n",
    "    'figure.dpi': 300, \n",
    "    \"pgf.preamble\": [\n",
    "        r\"\\usepackage[utf8x]{inputenc}\",    # use utf8 fonts \n",
    "        r\"\\usepackage[T1]{fontenc}\",        # plots will be generated\n",
    "        r\"\\usepackage[detect-all,locale=DE]{siunitx}\",\n",
    "        r\"\\usepackage{amsmath}\"\n",
    "        ]                                   # using this preamble\n",
    "    }\n",
    "\n",
    "rcparams_with_latex = {                      # setup matplotlib to use latex for output\n",
    "    \"text.usetex\": True,                # use LaTeX to write all text\n",
    "    \"font.family\": \"serif\",\n",
    "    \"font.serif\": [],                   # blank entries should cause plots \n",
    "    \"font.sans-serif\": [],              # to inherit fonts from the document\n",
    "    \"font.monospace\": [],\n",
    "    \"axes.labelsize\": 10,               # LaTeX default is 10pt font.\n",
    "    \"font.size\": 10,\n",
    "    \"legend.fontsize\": 8,               # Make the legend/label fonts \n",
    "    \"xtick.labelsize\": 8,               # a little smaller\n",
    "    \"ytick.labelsize\": 8,\n",
    "    \"figure.figsize\": [figurewidth, figureheight],     # default fig size of 0.9 textwidth\n",
    "    \"figure.dpi\": 300, \n",
    "    \"text.latex.preamble\": [\n",
    "        #r\"\\usepackage[utf8x]{inputenc}\",    # use utf8 fonts \n",
    "        r\"\\usepackage[T1]{fontenc}\",        # plots will be generated\n",
    "        r'\\usepackage{lmodern}', # otherwise savefig to pdf will produce an error!!\n",
    "        r\"\\usepackage[detect-all,locale=DE]{siunitx}\",\n",
    "        r\"\\usepackage{amsmath}\"\n",
    "        ]                                   # using this preamble\n",
    "    }\n",
    "\n",
    "\n",
    "#mpl.rcParams.update(pgf_with_latex)\n",
    "mpl.rcParams.update(rcparams_with_latex)"
   ]
  },
  {
   "cell_type": "code",
   "execution_count": 39,
   "metadata": {
    "colab": {
     "base_uri": "https://localhost:8080/",
     "height": 411
    },
    "colab_type": "code",
    "id": "XUBhlKbktzt6",
    "outputId": "423b26a6-af37-4a39-e2c3-551d47af33ac"
   },
   "outputs": [
    {
     "name": "stderr",
     "output_type": "stream",
     "text": [
      "C:\\Users\\Thomas\\Anaconda3\\lib\\site-packages\\matplotlib\\font_manager.py:1331: UserWarning: findfont: Font family ['serif'] not found. Falling back to DejaVu Sans\n",
      "  (prop.get_family(), self.defaultFamily[fontext]))\n"
     ]
    },
    {
     "data": {
      "image/png": "[encoded data removed]",
      "text/plain": [
       "<Figure size 978x604.45 with 1 Axes>"
      ]
     },
     "metadata": {
      "needs_background": "light"
     },
     "output_type": "display_data"
    }
   ],
   "source": [
    "fig, axs = plt.subplots(nrows=1, ncols=1, sharex=True)\n",
    "ax = axs\n",
    "x = df[df['label']=='18nm horizontal S']['d / σ_B']\n",
    "y = df[df['label']=='18nm horizontal S']['xi / um']\n",
    "yerr = df[df['label']=='18nm horizontal S']['xi std / um']\n",
    "ax.errorbar(x, y, yerr=yerr, fmt='o',\n",
    "           capsize=1, elinewidth=1, markeredgewidth=1)\n",
    "ax.set_xlabel('separation $ d / \\\\sigma_B $')\n",
    "ax.set_ylabel('coherence length $ \\\\xi / \\si{\\\\micro\\\\meter} $')\n",
    "plt.show()"
   ]
  },
  {
   "cell_type": "code",
   "execution_count": 41,
   "metadata": {
    "colab": {},
    "colab_type": "code",
    "id": "hSo94Uw0voo6"
   },
   "outputs": [
    {
     "name": "stderr",
     "output_type": "stream",
     "text": [
      "C:\\Users\\Thomas\\Anaconda3\\lib\\site-packages\\matplotlib\\font_manager.py:1331: UserWarning: findfont: Font family ['serif'] not found. Falling back to DejaVu Sans\n",
      "  (prop.get_family(), self.defaultFamily[fontext]))\n"
     ]
    }
   ],
   "source": [
    "fig.savefig('test.pdf')\n",
    "fig.savefig('test.png')"
   ]
  },
  {
   "cell_type": "code",
   "execution_count": null,
   "metadata": {
    "colab": {},
    "colab_type": "code",
    "id": "0T7rWZL1_vs2"
   },
   "outputs": [],
   "source": []
  }
 ],
 "metadata": {
  "colab": {
   "collapsed_sections": [],
   "include_colab_link": true,
   "name": "plot_results",
   "provenance": [],
   "version": "0.3.2"
  },
  "kernelspec": {
   "display_name": "Python 3",
   "language": "python",
   "name": "python3"
  },
  "language_info": {
   "codemirror_mode": {
    "name": "ipython",
    "version": 3
   },
   "file_extension": ".py",
   "mimetype": "text/x-python",
   "name": "python",
   "nbconvert_exporter": "python",
   "pygments_lexer": "ipython3",
   "version": "3.7.0"
  }
 },
 "nbformat": 4,
 "nbformat_minor": 1
}
