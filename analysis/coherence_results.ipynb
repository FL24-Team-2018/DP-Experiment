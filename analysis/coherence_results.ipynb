{
  "nbformat": 4,
  "nbformat_minor": 0,
  "metadata": {
    "colab": {
      "name": "coherence_results",
      "version": "0.3.2",
      "provenance": [],
      "include_colab_link": true
    },
    "kernelspec": {
      "name": "python3",
      "display_name": "Python 3"
    }
  },
  "cells": [
    {
      "cell_type": "markdown",
      "metadata": {
        "id": "view-in-github",
        "colab_type": "text"
      },
      "source": [
        "<a href=\"https://colab.research.google.com/github/FL24-Team-2018/DP-Experiment/blob/master/analysis/coherence_results.ipynb\" target=\"_parent\"><img src=\"https://colab.research.google.com/assets/colab-badge.svg\" alt=\"Open In Colab\"/></a>"
      ]
    },
    {
      "cell_type": "code",
      "metadata": {
        "id": "4HsO4hhYmM0v",
        "colab_type": "code",
        "colab": {}
      },
      "source": [
        "import pandas as pd \n",
        "import numpy as np\n",
        "import matplotlib.pyplot as plt"
      ],
      "execution_count": 0,
      "outputs": []
    },
    {
      "cell_type": "code",
      "metadata": {
        "id": "woHq7N9sp6dO",
        "colab_type": "code",
        "outputId": "581309c2-4d53-43f9-bc42-559c0e3649e7",
        "colab": {
          "base_uri": "https://localhost:8080/",
          "height": 122
        }
      },
      "source": [
        "from google.colab import drive\n",
        "drive.mount('/content/drive')"
      ],
      "execution_count": 0,
      "outputs": [
        {
          "output_type": "stream",
          "text": [
            "Go to this URL in a browser: https://accounts.google.com/o/oauth2/auth?client_id=947318989803-6bn6qk8qdgf4n4g3pfee6491hc0brc4i.apps.googleusercontent.com&redirect_uri=urn%3Aietf%3Awg%3Aoauth%3A2.0%3Aoob&scope=email%20https%3A%2F%2Fwww.googleapis.com%2Fauth%2Fdocs.test%20https%3A%2F%2Fwww.googleapis.com%2Fauth%2Fdrive%20https%3A%2F%2Fwww.googleapis.com%2Fauth%2Fdrive.photos.readonly%20https%3A%2F%2Fwww.googleapis.com%2Fauth%2Fpeopleapi.readonly&response_type=code\n",
            "\n",
            "Enter your authorization code:\n",
            "··········\n",
            "Mounted at /content/drive\n"
          ],
          "name": "stdout"
        }
      ]
    },
    {
      "cell_type": "code",
      "metadata": {
        "id": "_7q4dMgBoPhs",
        "colab_type": "code",
        "colab": {}
      },
      "source": [
        "#path = \"/content/drive/My Drive/Colab Notebooks/DP-experiment/2019-06-12 results Wiener.csv\"\n",
        "url = 'https://raw.githubusercontent.com/FL24-Team-2018/DP-Experiment/master/analysis/2019-06-12%20results%20Wiener.csv'\n",
        "df = pd.read_csv(url)"
      ],
      "execution_count": 0,
      "outputs": []
    },
    {
      "cell_type": "code",
      "metadata": {
        "id": "XaE6fEgLvJAA",
        "colab_type": "code",
        "outputId": "7a59b8c8-df62-47a2-98b0-4f59e641fae2",
        "colab": {
          "base_uri": "https://localhost:8080/",
          "height": 136
        }
      },
      "source": [
        "df.columns"
      ],
      "execution_count": 3,
      "outputs": [
        {
          "output_type": "execute_result",
          "data": {
            "text/plain": [
              "Index(['measurement', 'label', 'wavelength / nm', 'd / um', 'd / σ_B',\n",
              "       'd / σ_B err', 'orientation', 'sigma_B / um', 'sigma_B_err / %',\n",
              "       'sigma_B_err / um', 'xi / um', 'xi std / um', 'ξ_std / %', 'ξ/σ_B',\n",
              "       'Unnamed: 14', 'ξ/σ_err / %', 'ξ/σ_err', 'zeta', 'Unnamed: 18',\n",
              "       'Unnamed: 19', 'Unnamed: 20', 'Unnamed: 21', 'of averaged image',\n",
              "       'Unnamed: 23'],\n",
              "      dtype='object')"
            ]
          },
          "metadata": {
            "tags": []
          },
          "execution_count": 3
        }
      ]
    },
    {
      "cell_type": "code",
      "metadata": {
        "id": "3bYelnGFtAm1",
        "colab_type": "code",
        "outputId": "aea7623a-bed3-424f-8d44-751d1a6291d0",
        "colab": {
          "base_uri": "https://localhost:8080/",
          "height": 85
        }
      },
      "source": [
        "df.label.unique()"
      ],
      "execution_count": 4,
      "outputs": [
        {
          "output_type": "execute_result",
          "data": {
            "text/plain": [
              "array(['18nm vertical L', '18nm horizontal L', '18nm vertical S',\n",
              "       '18nm horizontal S', '8nm vertical S', '8nm horizontal S',\n",
              "       '13.5nm vertical L', '13.5nm horizontal L', '13.5nm vertical S',\n",
              "       '13.5nm horizontal S', nan], dtype=object)"
            ]
          },
          "metadata": {
            "tags": []
          },
          "execution_count": 4
        }
      ]
    },
    {
      "cell_type": "code",
      "metadata": {
        "id": "Km0pvY0mvXsh",
        "colab_type": "code",
        "outputId": "1d826060-d5bc-4898-e50a-3a131bec99ac",
        "colab": {
          "base_uri": "https://localhost:8080/",
          "height": 102
        }
      },
      "source": [
        "df[df['label']=='18nm horizontal S']['d / σ_B']"
      ],
      "execution_count": 5,
      "outputs": [
        {
          "output_type": "execute_result",
          "data": {
            "text/plain": [
              "5     0.6476\n",
              "7     0.9699\n",
              "9     1.3404\n",
              "11    2.1295\n",
              "Name: d / σ_B, dtype: float64"
            ]
          },
          "metadata": {
            "tags": []
          },
          "execution_count": 5
        }
      ]
    },
    {
      "cell_type": "code",
      "metadata": {
        "id": "XUBhlKbktzt6",
        "colab_type": "code",
        "outputId": "00419ad7-32a0-4846-eb93-4e009581a3eb",
        "colab": {
          "base_uri": "https://localhost:8080/",
          "height": 287
        }
      },
      "source": [
        "fig, axs = plt.subplots(nrows=1, ncols=1, sharex=True)\n",
        "ax = axs\n",
        "x = df[df['label']=='18nm horizontal S']['d / σ_B']\n",
        "y = df[df['label']=='18nm horizontal S']['xi / um']\n",
        "yerr = df[df['label']=='18nm horizontal S']['xi std / um']\n",
        "ax.errorbar(x, y, yerr=yerr, fmt='o',\n",
        "           capsize=10, elinewidth=1, markeredgewidth=10)"
      ],
      "execution_count": 6,
      "outputs": [
        {
          "output_type": "execute_result",
          "data": {
            "text/plain": [
              "<ErrorbarContainer object of 3 artists>"
            ]
          },
          "metadata": {
            "tags": []
          },
          "execution_count": 6
        },
        {
          "output_type": "display_data",
          "data": {
            "image/png": "[encoded data removed]",
            "text/plain": [
              "<Figure size 432x288 with 1 Axes>"
            ]
          },
          "metadata": {
            "tags": []
          }
        }
      ]
    },
    {
      "cell_type": "code",
      "metadata": {
        "id": "hSo94Uw0voo6",
        "colab_type": "code",
        "colab": {}
      },
      "source": [
        ""
      ],
      "execution_count": 0,
      "outputs": []
    }
  ]
}